{
 "cells": [
  {
   "cell_type": "markdown",
   "id": "13a209ed",
   "metadata": {},
   "source": [
    "# Basics of Machine Learning"
   ]
  },
  {
   "cell_type": "markdown",
   "id": "eefec1a0",
   "metadata": {},
   "source": [
    "This notebook introduces the basics of Machine Learning (ML) for hands-on learners.\n",
    " \n",
    "By the end of this notebook, you'll understand what ML is, its types, workflow, and get to train your first simple model."
   ]
  },
  {
   "cell_type": "markdown",
   "id": "e7453bd8",
   "metadata": {},
   "source": [
    "### **What is Machine Learning?**\n",
    "\n",
    "Machine Learning is the science of making computers learn patterns from data and make predictions without being explicitly programmed.\n",
    "\n",
    "- Think of it as teaching by example: You give the computer examples, and it learns rules from them.\n",
    "\n",
    "- Real-life examples:\n",
    "\n",
    "    - Movie recommendations (Netflix, YouTube)\n",
    "\n",
    "    - Email spam detection\n",
    "\n",
    "    - Self-driving cars\n",
    "\n",
    "    - Predicting house prices"
   ]
  },
  {
   "cell_type": "markdown",
   "id": "fe2e4e03",
   "metadata": {},
   "source": [
    "### **Types of Machine Learning**\n",
    "\n",
    "#### **Supervised Machine Learning**\n",
    "\n",
    "Supervised learning is when a model is fed labeled datasets meaning the input data and output labels are provided. \n",
    "\n",
    "The algorithm learns to map inputs to outputs and then used this learned relationship to make predictions or classifications on unseen data\n",
    "\n",
    "\n",
    "<img title=\"Supervised Learning Workflow\" src=\"https://miro.medium.com/v2/format:webp/1*Iz7bCLrPTImnBDOOEyE3LA.png\" >\n"
   ]
  },
  {
   "cell_type": "markdown",
   "id": "aeee04b2",
   "metadata": {},
   "source": [
    "There are two main categories of supervised leaning :\n",
    "\n",
    "- **Regression**: It deals with predicting continous traget value which are numerical values. For example, predicting price of house based on size, location, etc\n",
    "\n",
    "\n",
    "- **Classification**: It deals with predicting categorical target variables, which represents discrete classes or labels. For example, predicting whether a patient has risk of heart disease "
   ]
  },
  {
   "cell_type": "markdown",
   "id": "eb4653bf",
   "metadata": {},
   "source": [
    "#### **Unsupervised Machine Learning**\n",
    "\n",
    "Unsupervised learning is when a model is fed with unlabelled dataset meaning target outputs are not provided\n",
    "\n",
    "The goal of the algorithm is to discover hidden patterns or relationships within the data without any knowledge of the output\n",
    "\n",
    "<img title=\"Unsupervised Learning Workflow\" src=\"https://www.mathworks.com/discovery/unsupervised-learning/_jcr_content/mainParsys/band/mainParsys/lockedsubnav_copy/mainParsys/columns/335ce30a-77fd-4c27-af75-93672733f56b/columns/0e1a10a0-b289-4f36-9928-f1add97647b8/image_2128876021_cop.adapt.full.medium.png/1741099572366.png\">"
   ]
  },
  {
   "cell_type": "markdown",
   "id": "35c482d6",
   "metadata": {},
   "source": [
    "There are two main categories of supervised leaning :\n",
    "\n",
    "- **Clustering**: It refers to the process of grouping data points into clusters based on similarity. For example: \n",
    "\n",
    "\n",
    "- **Classification**: It deals with predicting categorical target variables, which represents discrete classes or labels. For example, predicting whether a patient has risk of heart disease "
   ]
  },
  {
   "cell_type": "markdown",
   "id": "0e6bf236",
   "metadata": {},
   "source": [
    "#### **Reinforcement Machine Learning**\n",
    "\n",
    "It is a type of learning that involves an agent interacting with an environment to learn optimal actions that maximize reward\n",
    "\n",
    "\n",
    "\n",
    "<img src=\"https://pythongeeks.org/wp-content/uploads/2022/03/reinforcement-learning-in-machine-learning.webp\" title=\"Reinforcement Machine Learning\">"
   ]
  }
 ],
 "metadata": {
  "kernelspec": {
   "display_name": "Python 3",
   "language": "python",
   "name": "python3"
  },
  "language_info": {
   "name": "python",
   "version": "3.10.0"
  }
 },
 "nbformat": 4,
 "nbformat_minor": 5
}
