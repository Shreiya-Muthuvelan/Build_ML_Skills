{
 "cells": [
  {
   "cell_type": "markdown",
   "id": "70ff4652",
   "metadata": {},
   "source": [
    "## Machine Learning Workflow\n",
    "\n",
    "Machine learning workflow refers to the systematic process of building and deploying a ML model. It involves multiple steps like data collection, data preprocessing, feature engineering, model selection, training , evaluation and deployment. \n",
    "\n",
    "\n",
    "<img src=\"https://www.tutorialspoint.com/machine_learning/images/data.jpg\">\n"
   ]
  },
  {
   "cell_type": "markdown",
   "id": "5e737073",
   "metadata": {},
   "source": [
    "- **Data Collection**: The initial step involves gathering raw data from various sources such as databases, files, sensors, or external APIs.\n",
    "\n",
    "- **Data Preprocessing**: This stage focuses on cleaning and preparing the collected data by handling missing values, removing duplicates, and normalizing numerical features.\n",
    "\n",
    "- **Feature Engineering**: During this process, new features are created from existing ones to improve performance of the machine learning model.\n",
    "\n",
    "- **Model Selection & Training**: An appropriate machine learning algorithm is chosen and then trained on the prepared data to learn the underlying patterns and relationships.\n",
    "\n",
    "- **Evaluation**: The trained model's performance is rigorously tested using a variety of metrics, such as accuracy, precision, and Root Mean Squared Error (RMSE), to assess its effectiveness.\n",
    "\n",
    "- **Deployment**: The final step is to make the trained and evaluated model available for practical application, integrating it into real-world systems like a website or a mobile application."
   ]
  },
  {
   "cell_type": "markdown",
   "id": "476a6398",
   "metadata": {},
   "source": [
    "We will see all these steps in the upcoming notebooks\n"
   ]
  }
 ],
 "metadata": {
  "kernelspec": {
   "display_name": "Python 3",
   "language": "python",
   "name": "python3"
  },
  "language_info": {
   "codemirror_mode": {
    "name": "ipython",
    "version": 3
   },
   "file_extension": ".py",
   "mimetype": "text/x-python",
   "name": "python",
   "nbconvert_exporter": "python",
   "pygments_lexer": "ipython3",
   "version": "3.10.0"
  }
 },
 "nbformat": 4,
 "nbformat_minor": 5
}
