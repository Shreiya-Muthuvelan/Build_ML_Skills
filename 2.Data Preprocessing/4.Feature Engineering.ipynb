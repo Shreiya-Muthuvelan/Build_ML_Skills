{
 "cells": [
  {
   "cell_type": "markdown",
   "id": "ff205df7",
   "metadata": {},
   "source": [
    "## Feature Engineering\n",
    "\n",
    "\n",
    "Feature engineering is the process of **creating or transforming features** to improve how well a machine learning model can learn from data.  \n",
    "\n",
    "Raw datasets often don’t contain the most informative representations directly — they may need transformation, grouping, or encoding before they can be used effectively.  \n",
    "\n",
    "In this notebook, we will demonstrate **how new features can be created from existing ones** in the Adult Income dataset to make it more suitable for predictive modeling.  \n"
   ]
  },
  {
   "cell_type": "markdown",
   "id": "3273545f",
   "metadata": {},
   "source": [
    "Before engineering new features, let’s quickly look at what the dataset looks like "
   ]
  },
  {
   "cell_type": "code",
   "execution_count": null,
   "id": "a2ad784d",
   "metadata": {},
   "outputs": [],
   "source": [
    "from sklearn.datasets import fetch_openml\n",
    "import pandas as pd\n",
    "\n",
    "adult = fetch_openml(name=\"adult\", version=2, as_frame=True)\n",
    "\n",
    "df_adult = adult.frame\n",
    "df_adult=df_adult.drop(columns=['fnlwgt'])\n",
    "df_adult=df_adult.drop_duplicates()\n",
    "print(df_adult.head())"
   ]
  },
  {
   "cell_type": "markdown",
   "id": "9d338403",
   "metadata": {},
   "source": [
    "Lets create a feature called **age-group** wherein we bucket ages intro categories like young, middle aged and old"
   ]
  },
  {
   "cell_type": "code",
   "execution_count": null,
   "id": "9daafe1e",
   "metadata": {},
   "outputs": [],
   "source": [
    "print(df_adult['age'].min(), df_adult['age'].max())"
   ]
  },
  {
   "cell_type": "markdown",
   "id": "6c662913",
   "metadata": {},
   "source": [
    "I'm going to create age divisions as follows:\n",
    "- Teens: 17-19 \n",
    "- Young Adults: 20-29 \n",
    "- Adults: 30-49 \n",
    "- Middle-Aged Adults: 50-64 \n",
    "- Seniors: 65+"
   ]
  },
  {
   "cell_type": "code",
   "execution_count": null,
   "id": "df77692a",
   "metadata": {},
   "outputs": [],
   "source": [
    "import pandas as pd\n",
    "bins=[17,19,29,49,64,float('inf')]\n",
    "\n",
    "labels=['Teens','Young Adults','Adults','Middle-Aged Adults','Seniors']\n",
    "df_adult['age_group']=pd.cut(df_adult['age'], bins=bins, labels=labels,right=True, include_lowest=True)\n",
    "print(df_adult.head())"
   ]
  },
  {
   "cell_type": "markdown",
   "id": "dd95d349",
   "metadata": {},
   "source": [
    "Next lets create a feature called capital flag which will hold true for people with captial-gain>0 and false for capital-gain<0"
   ]
  },
  {
   "cell_type": "code",
   "execution_count": null,
   "id": "2a77a400",
   "metadata": {},
   "outputs": [],
   "source": [
    "df_adult['capital_flag'] = df_adult['capital-gain'].apply(lambda x: 1 if x > 0 else 0)\n",
    "print(df_adult.head())"
   ]
  },
  {
   "cell_type": "markdown",
   "id": "bbc4d5bf",
   "metadata": {},
   "source": [
    "Lets Simplify the marital-status into married vs not married instead of multiple categories"
   ]
  },
  {
   "cell_type": "code",
   "execution_count": null,
   "id": "2ad90b0f",
   "metadata": {},
   "outputs": [],
   "source": [
    "df_adult['marital-status'].value_counts()"
   ]
  },
  {
   "cell_type": "code",
   "execution_count": null,
   "id": "cef5131b",
   "metadata": {},
   "outputs": [],
   "source": [
    "import numpy as np\n",
    "\n",
    "df_adult['marital-status'] = np.where(\n",
    "    df_adult['marital-status'].str.contains('Married'), \n",
    "    'Married', \n",
    "    'Not-Married'\n",
    ")"
   ]
  },
  {
   "cell_type": "code",
   "execution_count": null,
   "id": "f922ff1d",
   "metadata": {},
   "outputs": [],
   "source": [
    "print(df_adult.head())"
   ]
  }
 ],
 "metadata": {
  "kernelspec": {
   "display_name": "Python 3",
   "language": "python",
   "name": "python3"
  },
  "language_info": {
   "codemirror_mode": {
    "name": "ipython",
    "version": 3
   },
   "file_extension": ".py",
   "mimetype": "text/x-python",
   "name": "python",
   "nbconvert_exporter": "python",
   "pygments_lexer": "ipython3",
   "version": "3.10.0"
  }
 },
 "nbformat": 4,
 "nbformat_minor": 5
}
