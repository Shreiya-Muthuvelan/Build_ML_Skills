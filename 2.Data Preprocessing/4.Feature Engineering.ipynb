{
 "cells": [
  {
   "cell_type": "markdown",
   "id": "ff205df7",
   "metadata": {},
   "source": [
    "## Feature Engineering\n",
    "\n",
    "\n",
    "Feature engineering is the process of **creating or transforming features** to improve how well a machine learning model can learn from data.  \n",
    "\n",
    "Raw datasets often don’t contain the most informative representations directly — they may need transformation, grouping, or encoding before they can be used effectively.  \n",
    "\n",
    "In this notebook, we will demonstrate **how new features can be created from existing ones** in the Adult Income dataset to make it more suitable for predictive modeling.  \n"
   ]
  },
  {
   "cell_type": "markdown",
   "id": "3273545f",
   "metadata": {},
   "source": [
    "Before engineering new features, let’s quickly look at what the dataset looks like "
   ]
  },
  {
   "cell_type": "code",
   "execution_count": 5,
   "id": "a2ad784d",
   "metadata": {},
   "outputs": [
    {
     "name": "stdout",
     "output_type": "stream",
     "text": [
      "    age  workclass     education  education-num      marital-status  \\\n",
      "0  25.0    Private          11th            7.0       Never-married   \n",
      "1  38.0    Private       HS-grad            9.0  Married-civ-spouse   \n",
      "2  28.0  Local-gov    Assoc-acdm           12.0  Married-civ-spouse   \n",
      "3  44.0    Private  Some-college           10.0  Married-civ-spouse   \n",
      "4  18.0        NaN  Some-college           10.0       Never-married   \n",
      "\n",
      "          occupation relationship   race     sex  capital-gain  capital-loss  \\\n",
      "0  Machine-op-inspct    Own-child  Black    Male           0.0           0.0   \n",
      "1    Farming-fishing      Husband  White    Male           0.0           0.0   \n",
      "2    Protective-serv      Husband  White    Male           0.0           0.0   \n",
      "3  Machine-op-inspct      Husband  Black    Male        7688.0           0.0   \n",
      "4                NaN    Own-child  White  Female           0.0           0.0   \n",
      "\n",
      "   hours-per-week native-country  class  \n",
      "0            40.0  United-States  <=50K  \n",
      "1            50.0  United-States  <=50K  \n",
      "2            40.0  United-States   >50K  \n",
      "3            40.0  United-States   >50K  \n",
      "4            30.0  United-States  <=50K  \n"
     ]
    }
   ],
   "source": [
    "from sklearn.datasets import fetch_openml\n",
    "import pandas as pd\n",
    "\n",
    "adult = fetch_openml(name=\"adult\", version=2, as_frame=True)\n",
    "\n",
    "df_adult = adult.frame\n",
    "df_adult=df_adult.drop(columns=['fnlwgt'])\n",
    "df_adult=df_adult.drop_duplicates()\n",
    "print(df_adult.head())"
   ]
  },
  {
   "cell_type": "markdown",
   "id": "9d338403",
   "metadata": {},
   "source": [
    "Lets create a feature called **age-group** wherein we bucket ages intro categories like young, middle aged and old"
   ]
  },
  {
   "cell_type": "code",
   "execution_count": 6,
   "id": "9daafe1e",
   "metadata": {},
   "outputs": [
    {
     "name": "stdout",
     "output_type": "stream",
     "text": [
      "17.0 90.0\n"
     ]
    }
   ],
   "source": [
    "print(df_adult['age'].min(), df_adult['age'].max())"
   ]
  },
  {
   "cell_type": "markdown",
   "id": "6c662913",
   "metadata": {},
   "source": [
    "I'm going to create age divisions as follows:\n",
    "- Teens: 17-19 \n",
    "- Young Adults: 20-29 \n",
    "- Adults: 30-49 \n",
    "- Middle-Aged Adults: 50-64 \n",
    "- Seniors: 65+"
   ]
  },
  {
   "cell_type": "code",
   "execution_count": 7,
   "id": "df77692a",
   "metadata": {},
   "outputs": [
    {
     "name": "stdout",
     "output_type": "stream",
     "text": [
      "    age  workclass     education  education-num      marital-status  \\\n",
      "0  25.0    Private          11th            7.0       Never-married   \n",
      "1  38.0    Private       HS-grad            9.0  Married-civ-spouse   \n",
      "2  28.0  Local-gov    Assoc-acdm           12.0  Married-civ-spouse   \n",
      "3  44.0    Private  Some-college           10.0  Married-civ-spouse   \n",
      "4  18.0        NaN  Some-college           10.0       Never-married   \n",
      "\n",
      "          occupation relationship   race     sex  capital-gain  capital-loss  \\\n",
      "0  Machine-op-inspct    Own-child  Black    Male           0.0           0.0   \n",
      "1    Farming-fishing      Husband  White    Male           0.0           0.0   \n",
      "2    Protective-serv      Husband  White    Male           0.0           0.0   \n",
      "3  Machine-op-inspct      Husband  Black    Male        7688.0           0.0   \n",
      "4                NaN    Own-child  White  Female           0.0           0.0   \n",
      "\n",
      "   hours-per-week native-country  class     age_group  \n",
      "0            40.0  United-States  <=50K  Young Adults  \n",
      "1            50.0  United-States  <=50K        Adults  \n",
      "2            40.0  United-States   >50K  Young Adults  \n",
      "3            40.0  United-States   >50K        Adults  \n",
      "4            30.0  United-States  <=50K         Teens  \n"
     ]
    }
   ],
   "source": [
    "import pandas as pd\n",
    "bins=[17,19,29,49,64,float('inf')]\n",
    "\n",
    "labels=['Teens','Young Adults','Adults','Middle-Aged Adults','Seniors']\n",
    "df_adult['age_group']=pd.cut(df_adult['age'], bins=bins, labels=labels,right=True, include_lowest=True)\n",
    "print(df_adult.head())"
   ]
  },
  {
   "cell_type": "markdown",
   "id": "dd95d349",
   "metadata": {},
   "source": [
    "Next lets create a feature called capital flag which will hold true for people with captial-gain>0 and false for capital-gain<0"
   ]
  },
  {
   "cell_type": "code",
   "execution_count": 8,
   "id": "2a77a400",
   "metadata": {},
   "outputs": [
    {
     "name": "stdout",
     "output_type": "stream",
     "text": [
      "    age  workclass     education  education-num      marital-status  \\\n",
      "0  25.0    Private          11th            7.0       Never-married   \n",
      "1  38.0    Private       HS-grad            9.0  Married-civ-spouse   \n",
      "2  28.0  Local-gov    Assoc-acdm           12.0  Married-civ-spouse   \n",
      "3  44.0    Private  Some-college           10.0  Married-civ-spouse   \n",
      "4  18.0        NaN  Some-college           10.0       Never-married   \n",
      "\n",
      "          occupation relationship   race     sex  capital-gain  capital-loss  \\\n",
      "0  Machine-op-inspct    Own-child  Black    Male           0.0           0.0   \n",
      "1    Farming-fishing      Husband  White    Male           0.0           0.0   \n",
      "2    Protective-serv      Husband  White    Male           0.0           0.0   \n",
      "3  Machine-op-inspct      Husband  Black    Male        7688.0           0.0   \n",
      "4                NaN    Own-child  White  Female           0.0           0.0   \n",
      "\n",
      "   hours-per-week native-country  class     age_group  capital_flag  \n",
      "0            40.0  United-States  <=50K  Young Adults             0  \n",
      "1            50.0  United-States  <=50K        Adults             0  \n",
      "2            40.0  United-States   >50K  Young Adults             0  \n",
      "3            40.0  United-States   >50K        Adults             1  \n",
      "4            30.0  United-States  <=50K         Teens             0  \n"
     ]
    }
   ],
   "source": [
    "df_adult['capital_flag'] = df_adult['capital-gain'].apply(lambda x: 1 if x > 0 else 0)\n",
    "print(df_adult.head())"
   ]
  },
  {
   "cell_type": "markdown",
   "id": "bbc4d5bf",
   "metadata": {},
   "source": [
    "Lets Simplify the marital-status into married vs not married instead of multiple categories"
   ]
  },
  {
   "cell_type": "code",
   "execution_count": 9,
   "id": "2ad90b0f",
   "metadata": {},
   "outputs": [
    {
     "data": {
      "text/plain": [
       "marital-status\n",
       "Married-civ-spouse       19215\n",
       "Never-married            13360\n",
       "Divorced                  6218\n",
       "Separated                 1512\n",
       "Widowed                   1499\n",
       "Married-spouse-absent      627\n",
       "Married-AF-spouse           37\n",
       "Name: count, dtype: int64"
      ]
     },
     "execution_count": 9,
     "metadata": {},
     "output_type": "execute_result"
    }
   ],
   "source": [
    "df_adult['marital-status'].value_counts()"
   ]
  },
  {
   "cell_type": "code",
   "execution_count": 10,
   "id": "cef5131b",
   "metadata": {},
   "outputs": [],
   "source": [
    "import numpy as np\n",
    "\n",
    "df_adult['marital-status'] = np.where(\n",
    "    df_adult['marital-status'].str.contains('Married'), \n",
    "    'Married', \n",
    "    'Not-Married'\n",
    ")"
   ]
  },
  {
   "cell_type": "code",
   "execution_count": 11,
   "id": "f922ff1d",
   "metadata": {},
   "outputs": [
    {
     "name": "stdout",
     "output_type": "stream",
     "text": [
      "    age  workclass     education  education-num marital-status  \\\n",
      "0  25.0    Private          11th            7.0    Not-Married   \n",
      "1  38.0    Private       HS-grad            9.0        Married   \n",
      "2  28.0  Local-gov    Assoc-acdm           12.0        Married   \n",
      "3  44.0    Private  Some-college           10.0        Married   \n",
      "4  18.0        NaN  Some-college           10.0    Not-Married   \n",
      "\n",
      "          occupation relationship   race     sex  capital-gain  capital-loss  \\\n",
      "0  Machine-op-inspct    Own-child  Black    Male           0.0           0.0   \n",
      "1    Farming-fishing      Husband  White    Male           0.0           0.0   \n",
      "2    Protective-serv      Husband  White    Male           0.0           0.0   \n",
      "3  Machine-op-inspct      Husband  Black    Male        7688.0           0.0   \n",
      "4                NaN    Own-child  White  Female           0.0           0.0   \n",
      "\n",
      "   hours-per-week native-country  class     age_group  capital_flag  \n",
      "0            40.0  United-States  <=50K  Young Adults             0  \n",
      "1            50.0  United-States  <=50K        Adults             0  \n",
      "2            40.0  United-States   >50K  Young Adults             0  \n",
      "3            40.0  United-States   >50K        Adults             1  \n",
      "4            30.0  United-States  <=50K         Teens             0  \n"
     ]
    }
   ],
   "source": [
    "print(df_adult.head())"
   ]
  }
 ],
 "metadata": {
  "kernelspec": {
   "display_name": "Python 3",
   "language": "python",
   "name": "python3"
  },
  "language_info": {
   "codemirror_mode": {
    "name": "ipython",
    "version": 3
   },
   "file_extension": ".py",
   "mimetype": "text/x-python",
   "name": "python",
   "nbconvert_exporter": "python",
   "pygments_lexer": "ipython3",
   "version": "3.10.0"
  }
 },
 "nbformat": 4,
 "nbformat_minor": 5
}
