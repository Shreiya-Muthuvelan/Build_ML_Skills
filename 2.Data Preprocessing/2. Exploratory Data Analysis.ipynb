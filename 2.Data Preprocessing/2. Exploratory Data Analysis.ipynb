{
 "cells": [
  {
   "cell_type": "markdown",
   "id": "6513cfa6",
   "metadata": {},
   "source": [
    "## Exploratory Data Analysis\n",
    "\n",
    "Exploratory Data Analysis (EDA) is the process of visually and statistically exploring the dataset to uncover patterns, relationships, and important characteristics.\n",
    "\n",
    "Rather than jumping straight into machine learning, we first take time to understand the data. This step is like getting to know the \"personality\" of our dataset.\n",
    "\n",
    "**Why is it important?**\n",
    "- **Understand the dataset** → What features do we have? What types of values do they contain?\n",
    "\n",
    "- **Spot patterns and distributions** → For example, which education levels are most common, or how age is spread.\n",
    "\n",
    "- **Detect issues** → Like outliers, skewed distributions, or imbalanced classes.\n",
    "\n",
    "- **Guide model building** → The insights gained often shape preprocessing, feature engineering, and algorithm choice. "
   ]
  },
  {
   "cell_type": "code",
   "execution_count": null,
   "id": "b77eb8f3",
   "metadata": {},
   "outputs": [],
   "source": [
    "from sklearn.datasets import fetch_openml\n",
    "import pandas as pd\n",
    "\n",
    "adult = fetch_openml(name=\"adult\", version=2, as_frame=True)\n",
    "\n",
    "df_adult = adult.frame\n"
   ]
  },
  {
   "cell_type": "code",
   "execution_count": null,
   "id": "17c11a95",
   "metadata": {},
   "outputs": [],
   "source": [
    "df_adult=df_adult.drop(columns=['fnlwgt'])\n",
    "df_adult=df_adult.drop_duplicates()\n",
    "print(df_adult.head())"
   ]
  },
  {
   "cell_type": "code",
   "execution_count": null,
   "id": "56469a2a",
   "metadata": {},
   "outputs": [],
   "source": [
    "df_adult.shape"
   ]
  },
  {
   "cell_type": "markdown",
   "id": "c3c1620e",
   "metadata": {},
   "source": [
    "\n",
    "**Different Types of Data Analysis**\n",
    "\n",
    "####  1. Univariate Analysis (one variable at a time)  \n",
    "Focuses on the **distribution of a single feature**.  \n",
    "\n",
    "**For categorical variables** (like education, workclass, gender):  \n",
    "- **Bar plots** → show category counts.  \n",
    "- Example: A bar plot of *education levels* shows which qualifications are most common.   \n",
    "\n",
    "**For numerical variables** (like age, hours-per-week, capital-gain):  \n",
    "- **Histograms** → show distribution (e.g., most people work ~40 hours per week).  \n",
    "- **Boxplots** → highlight outliers (e.g., a few people have very high capital gains).   \n"
   ]
  },
  {
   "cell_type": "code",
   "execution_count": null,
   "id": "369661b1",
   "metadata": {},
   "outputs": [],
   "source": [
    "import matplotlib.pyplot as plt\n",
    "\n",
    "education_counts = df_adult['education'].value_counts()\n",
    "plt.bar(education_counts.index, education_counts.values)\n",
    "plt.xlabel('Education Level')\n",
    "plt.ylabel('Count')\n",
    "plt.title('Distribution of Education Levels')\n",
    "\n",
    "plt.xticks(rotation=45, ha='right') \n",
    "plt.tight_layout() \n",
    "\n",
    "plt.show()"
   ]
  },
  {
   "cell_type": "code",
   "execution_count": null,
   "id": "6762d306",
   "metadata": {},
   "outputs": [],
   "source": [
    "import matplotlib.pyplot as plt\n",
    "\n",
    "gender_counts= df_adult['sex'].value_counts()\n",
    "\n",
    "plt.pie(gender_counts.values,labels=gender_counts.index,autopct='%1.1f%%', startangle=140)\n",
    "\n",
    "plt.show()"
   ]
  },
  {
   "cell_type": "markdown",
   "id": "8f25a0d2",
   "metadata": {},
   "source": [
    "Lets take a look at the distrubution of numerical features with the help of histograms and box plots"
   ]
  },
  {
   "cell_type": "code",
   "execution_count": null,
   "id": "64cbc874",
   "metadata": {},
   "outputs": [],
   "source": [
    "import matplotlib.pyplot as plt\n",
    "import numpy as np\n",
    "\n",
    "\n",
    "plt.hist(df_adult['hours-per-week'], bins=30, color='skyblue', edgecolor='black')\n",
    "\n",
    "plt.xlabel('Hours-per-week')\n",
    "plt.ylabel('Frequency')\n",
    "\n",
    "plt.show()"
   ]
  },
  {
   "cell_type": "markdown",
   "id": "9c05d596",
   "metadata": {},
   "source": [
    "Box plots are also useful in detecting outliers as we have seen in 1.Data Cleaning notebook"
   ]
  },
  {
   "cell_type": "code",
   "execution_count": null,
   "id": "e4051269",
   "metadata": {},
   "outputs": [],
   "source": [
    "import seaborn as sns\n",
    "import matplotlib.pyplot as plt\n",
    "\n",
    "sns.boxplot(x=df_adult['capital-gain'], color='lightgreen')\n",
    "plt.show()"
   ]
  },
  {
   "cell_type": "code",
   "execution_count": null,
   "id": "f2f6186b",
   "metadata": {},
   "outputs": [],
   "source": [
    "import seaborn as sns\n",
    "import matplotlib.pyplot as plt\n",
    "\n",
    "sns.boxplot(x=df_adult['age'])\n",
    "plt.show()"
   ]
  },
  {
   "cell_type": "markdown",
   "id": "56bd32f8",
   "metadata": {},
   "source": [
    "\n",
    "####  2. Bivariate Analysis (two variables at a time)  \n",
    "Helps us understand the **relationship between two features**, especially with the **target variable (income class)**.  \n",
    "\n",
    "**Categorical vs Target:**  \n",
    "- **Stacked bar plot** → income class by education level. \n",
    "\n",
    "**Numerical vs Target:**  \n",
    "- **Boxplots grouped by target** → e.g., *age vs income class*, showing whether higher income is linked to certain age groups.  \n",
    "- **Violin plots (optional)** → similar to boxplots but also show density distribution.  \n",
    "\n",
    "**Numerical vs Numerical:**  \n",
    "- **Scatter plots** → e.g., *age vs hours-per-week*. "
   ]
  },
  {
   "cell_type": "code",
   "execution_count": null,
   "id": "a02eb48c",
   "metadata": {},
   "outputs": [],
   "source": [
    "import matplotlib.pyplot as plt\n",
    "import pandas as pd\n",
    "import seaborn as sns\n",
    "\n",
    "df_counts = pd.crosstab(df_adult['education'], df_adult['class'])\n",
    "\n",
    "df_counts.plot(kind='bar', stacked=True, figsize=(12, 8))\n",
    "\n",
    "plt.title('Income Class by Education Level')\n",
    "plt.xlabel('Education Level')\n",
    "plt.ylabel('Count')\n",
    "plt.xticks(rotation=45, ha='right')\n",
    "plt.legend(title='Income Class')\n",
    "plt.tight_layout()\n",
    "plt.show()"
   ]
  },
  {
   "cell_type": "markdown",
   "id": "626fd28f",
   "metadata": {},
   "source": [
    "Lets now try a scatter plot to understand the relation between age and hours worked"
   ]
  },
  {
   "cell_type": "code",
   "execution_count": null,
   "id": "c2cf7093",
   "metadata": {},
   "outputs": [],
   "source": [
    "import matplotlib.pyplot as plt\n",
    "import pandas as pd\n",
    "plt.scatter(x=df_adult['age'], y=df_adult['hours-per-week'])\n",
    "\n",
    "plt.xlabel('Age')\n",
    "plt.ylabel('Hours per Week')\n",
    "plt.title('Age vs. Hours per Week')\n",
    "\n",
    "plt.show()"
   ]
  },
  {
   "cell_type": "markdown",
   "id": "57a35f8d",
   "metadata": {},
   "source": [
    "\n",
    "#### 3. Multivariate Analysis (three or more variables at once)  \n",
    "Explores **interactions between multiple features** at the same time.  \n",
    "\n",
    "- **Correlation Heatmap (numerical features):**   \n",
    "  - Shows which features are correlated (e.g., *education_num* vs *education*).  \n",
    "  - Helps detect redundancy: if two features are strongly correlated, one may be dropped later.  \n"
   ]
  },
  {
   "cell_type": "code",
   "execution_count": null,
   "id": "ff3bcaab",
   "metadata": {},
   "outputs": [],
   "source": [
    "import matplotlib.pyplot as plt\n",
    "import pandas as pd\n",
    "import seaborn as sns\n",
    "\n",
    "co_mtx = df_adult.corr(numeric_only=True)\n",
    "\n",
    "print(co_mtx)\n",
    "\n",
    "sns.heatmap(co_mtx, cmap=\"YlGnBu\", annot=True)\n",
    "\n",
    "plt.show()"
   ]
  },
  {
   "cell_type": "markdown",
   "id": "a3040527",
   "metadata": {},
   "source": [
    "### **Summary of EDA Insights**\n",
    "\n",
    "From our exploratory analysis of the Adult Income dataset, here are the key takeaways:  \n",
    "\n",
    "1. **Demographics**  \n",
    "   - Most individuals in the dataset are in the **30-50 age range**.  \n",
    "   - Gender distribution is highly skewed towards **male**.  \n",
    "\n",
    "2. **Education**  \n",
    "   - The most common education levels are **HS-grad** and **Some-college**.  \n",
    "   - Higher education levels (like **Masters/Doctorate**) appear less frequently. \n",
    "   - **HS-Grad** contains most propotion of people earning above 50k \n",
    "\n",
    "3. **Work-related features**  \n",
    "   - Most people work **~40 hours per week** (full-time).  \n",
    "   - A smaller portion works overtime (>50 hours), and very few work extremely low hours.  \n",
    "\n",
    "5. **Capital gains/losses**  \n",
    "   - Both features are **highly skewed**: most people have zero, with a few extreme values.  \n",
    "   - These are valid rare cases rather than errors, so instead of dropping them, transformations (like log scaling) may be useful later.  \n",
    "\n",
    "6. **Feature relationships**  \n",
    "   - The correlation heatmap shows **education_num** is strongly related to **capital-loss** .  \n",
    "   - Most other numerical features have weak correlations, suggesting they may carry **independent signals**.  \n",
    "\n",
    "\n",
    "These insights will guide us in **feature engineering** and **model building** in later steps.  \n"
   ]
  }
 ],
 "metadata": {
  "kernelspec": {
   "display_name": "Python 3",
   "language": "python",
   "name": "python3"
  },
  "language_info": {
   "codemirror_mode": {
    "name": "ipython",
    "version": 3
   },
   "file_extension": ".py",
   "mimetype": "text/x-python",
   "name": "python",
   "nbconvert_exporter": "python",
   "pygments_lexer": "ipython3",
   "version": "3.10.0"
  }
 },
 "nbformat": 4,
 "nbformat_minor": 5
}
